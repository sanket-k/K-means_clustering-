{
 "cells": [
  {
   "cell_type": "code",
   "execution_count": 8,
   "metadata": {},
   "outputs": [
    {
     "name": "stdout",
     "output_type": "stream",
     "text": [
      "0.9125642776489258\n"
     ]
    }
   ],
   "source": [
    "import time\n",
    "start_time = time.time()\n",
    "# multiplication of two arrays\n",
    "x = [1,2,3]\n",
    "y = [2,3,4]\n",
    "product = []\n",
    "\n",
    "for j in range(1000000):\n",
    "    \n",
    "    for i in range(len(x)):\n",
    "        product.append(x[i]*y[i])\n",
    "\n",
    "#print(product)\n",
    "end_time = time.time()\n",
    "print(end_time-start_time)"
   ]
  },
  {
   "cell_type": "code",
   "execution_count": 9,
   "metadata": {},
   "outputs": [
    {
     "name": "stdout",
     "output_type": "stream",
     "text": [
      "0.4182853698730469\n"
     ]
    }
   ],
   "source": [
    "# linear algebra\n",
    "import numpy as np\n",
    "\n",
    "start_time = time.time()\n",
    "X = np.array([1,2,3])\n",
    "Y = np.array([2,3,4])\n",
    "for _ in range(1000000):\n",
    "    p = X*Y\n",
    "#print(p)\n",
    "end_time = time.time()\n",
    "print(end_time-start_time)"
   ]
  },
  {
   "cell_type": "code",
   "execution_count": null,
   "metadata": {
    "collapsed": true
   },
   "outputs": [],
   "source": [
    "\n"
   ]
  }
 ],
 "metadata": {
  "kernelspec": {
   "display_name": "Python 3",
   "language": "python",
   "name": "python3"
  },
  "language_info": {
   "codemirror_mode": {
    "name": "ipython",
    "version": 3
   },
   "file_extension": ".py",
   "mimetype": "text/x-python",
   "name": "python",
   "nbconvert_exporter": "python",
   "pygments_lexer": "ipython3",
   "version": "3.5.3"
  }
 },
 "nbformat": 4,
 "nbformat_minor": 2
}
