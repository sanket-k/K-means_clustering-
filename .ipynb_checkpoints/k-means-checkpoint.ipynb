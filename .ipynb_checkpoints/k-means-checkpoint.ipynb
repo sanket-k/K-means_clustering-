{
 "cells": [
  {
   "cell_type": "code",
   "execution_count": 2,
   "metadata": {
    "collapsed": true
   },
   "outputs": [],
   "source": [
    "import numpy as np                   # matrix math\n",
    "import pandas as pd                  # file input\n",
    "import matplotlib.pyplot as plt      # plot graph\n",
    "import matplotlib.animation          # animation"
   ]
  },
  {
   "cell_type": "code",
   "execution_count": 4,
   "metadata": {
    "collapsed": true
   },
   "outputs": [],
   "source": [
    "# load file \n",
    "def load_dataset(filename):\n",
    "    return np.loadtxt(filename)\n",
    "\n",
    "#file name ==> durudataset.txt\n",
    "# for each user, how many packets are sent per second and what's the size of a packet\n",
    "#anomalies (DDOS attempts) will have lots of big packets sent in a short amount of time "
   ]
  },
  {
   "cell_type": "markdown",
   "metadata": {},
   "source": [
    "## Euclidian distance\n",
    "$$\n",
    "d(p,q) = d(q,p) = \\sqrt {(q_1 - p_1)^2 + (q_2 - p_2)^2 + ...+ (q_n - p_n)^2}\n",
    "             \\\\ = \\sqrt {\\sum_{i=1}^n (p_i-q_i)^2}\n",
    "$$"
   ]
  },
  {
   "cell_type": "code",
   "execution_count": 5,
   "metadata": {
    "collapsed": true
   },
   "outputs": [],
   "source": [
    "def euclidian(a,b):\n",
    "    return np.linalg.norm(a-b)"
   ]
  },
  {
   "cell_type": "code",
   "execution_count": 16,
   "metadata": {
    "collapsed": true
   },
   "outputs": [],
   "source": [
    "def kmeans(k, epsilon=0, distance='euclidian'):\n",
    "    history_centroids = []                        # list to store past centroids\n",
    "    if distance == 'euclidian':\n",
    "        dist_method = euclidian\n",
    "    dataset = load_dataset('durudataset.txt')     # load dataset\n",
    "    num_instances, num_features = dataset.shape   # get rows and columns\n",
    "    prototypes = dataset[np.random.randint(0,num_instances-1, size=k)] # define k centroids (choose clustres randomly)\n",
    "    history_centroids.append(prototypes)          # set these to the list of past centroids (to view progress over time)\n",
    "    prototypes_old = np.zeros(prototypes.shape)   # to keep track of centroid at every iteration\n",
    "    belongs_to = np.zeros((num_instances, 1))     # to store clusters\n",
    "    norm = dist_method(prototypes,prototypes_old)\n",
    "    iteration = 0\n",
    "    while norm > epsilon:\n",
    "        iteration += 1\n",
    "        norm = dist_method(prototypes, prototypes_old)\n",
    "        for index_instance, instance in enumerate(dataset):\n",
    "            # define a distance vector of size k\n",
    "            dist_vec = np.zeros((k,1))\n",
    "            # for each centroid \n",
    "            for index_prototype, prototype in enumerate(prototypes):\n",
    "                # compute distance between x and centroid \n",
    "                dist_vec[index_prototype] = dist_method(prototype, instance)\n",
    "            # find the least distance, assign that distance to a cluster\n",
    "            belongs_to[index_instance,0] = np.argmin(dist_vec)\n",
    "            \n",
    "        # tmp prototype to later save into history\n",
    "        tmp_prototypes = np.zeros((k, num_features))\n",
    "        \n",
    "        # for each cluster, k \n",
    "        for index in range(len(prototypes)):\n",
    "            # get all data points assigned to a cluster\n",
    "            instances_close = [i for i in range(len(belongs_to)) if belongs_to[i] == index]\n",
    "            # find the mean of those points\n",
    "            prototype = np.mean(dataset[instances_close], axis=0)\n",
    "            # add new centroid to the tmp_prototype list (this is the new centroid )\n",
    "            tmp_prototypes[index, :] = prototype\n",
    "        \n",
    "        # set the new list to the current list\n",
    "        prototype = tmp_prototypes\n",
    "        \n",
    "        # add the calculated centroid to the history for plotting\n",
    "        history_centroids.append(tmp_prototypes)\n",
    "        \n",
    "    #return calculated centroid, history of them, and assignments for which each data point belongs to\n",
    "    return prototypes, history_centroids, belongs_to"
   ]
  },
  {
   "cell_type": "code",
   "execution_count": 17,
   "metadata": {
    "collapsed": true
   },
   "outputs": [],
   "source": [
    "def plot(dataset, history_centroids, belongs_to):\n",
    "    # assume there are 2 clusters\n",
    "    colors = ['r', 'k']\n",
    "    \n",
    "    # split graph by its axis and actual plot\n",
    "    fig, ax = plt.subplots()\n",
    "    \n",
    "    # for each poin tin the dataset\n",
    "    for index in range(dataset.shape[0]):\n",
    "        # get all points assigned to a cluster\n",
    "        instances_close = [i for i in range(len(belongs_to)) if belongs_to[i] == index]\n",
    "        # assign each data point to that cluster a color and plot\n",
    "        for instance_index in instances_close:\n",
    "            ax.plot(dataset[instance_index][0], dataset[instance_index][1], (color[index] + 'o'))\n",
    "            \n",
    "    \n",
    "     #lets also log the history of centroids calculated via training\n",
    "    history_points = []\n",
    "    #for each centroid ever calculated\n",
    "    for index, centroids in enumerate(history_centroids):\n",
    "        #print them all out\n",
    "        for inner, item in enumerate(centroids):\n",
    "            if index == 0:\n",
    "                history_points.append(ax.plot(item[0], item[1], 'bo')[0])\n",
    "            else:\n",
    "                history_points[inner].set_data(item[0], item[1])\n",
    "                print(\"centroids {} {}\".format(index, item))\n",
    "\n",
    "                plt.show()\n"
   ]
  },
  {
   "cell_type": "code",
   "execution_count": 18,
   "metadata": {
    "collapsed": true
   },
   "outputs": [],
   "source": [
    "# main file\n",
    "def execute():\n",
    "    dataset = load_dataset('durudataset.txt')\n",
    "    centroids, history_centroids, belongs_to = kmeans(2)        # train model\n",
    "    plot(dataset, history_centroids, belongs_to)"
   ]
  },
  {
   "cell_type": "code",
   "execution_count": null,
   "metadata": {
    "collapsed": true
   },
   "outputs": [],
   "source": [
    "%matplotlib notebook\n",
    "\n",
    "execute()"
   ]
  },
  {
   "cell_type": "code",
   "execution_count": null,
   "metadata": {
    "collapsed": true
   },
   "outputs": [],
   "source": []
  }
 ],
 "metadata": {
  "kernelspec": {
   "display_name": "Python 3",
   "language": "python",
   "name": "python3"
  },
  "language_info": {
   "codemirror_mode": {
    "name": "ipython",
    "version": 3
   },
   "file_extension": ".py",
   "mimetype": "text/x-python",
   "name": "python",
   "nbconvert_exporter": "python",
   "pygments_lexer": "ipython3",
   "version": "3.5.3"
  }
 },
 "nbformat": 4,
 "nbformat_minor": 2
}
